{
  "nbformat": 4,
  "nbformat_minor": 0,
  "metadata": {
    "colab": {
      "provenance": [],
      "machine_shape": "hm",
      "gpuType": "V100"
    },
    "kernelspec": {
      "name": "python3",
      "display_name": "Python 3"
    },
    "language_info": {
      "name": "python"
    },
    "accelerator": "GPU"
  },
  "cells": [
    {
      "cell_type": "code",
      "execution_count": 38,
      "metadata": {
        "id": "Cz8b0doIgENT"
      },
      "outputs": [],
      "source": [
        "# Import necessary libraries\n",
        "import nltk\n",
        "from nltk.corpus import stopwords\n",
        "from nltk.tokenize import word_tokenize\n",
        "import string\n",
        "from sklearn.feature_extraction.text import CountVectorizer\n",
        "import numpy as np\n",
        "import pandas as pd\n",
        "import gensim\n",
        "from gensim.models import Word2Vec\n",
        "from sklearn.model_selection import train_test_split\n",
        "from sklearn.linear_model import LogisticRegression\n",
        "from sklearn.metrics import accuracy_score\n",
        "from sklearn.svm import SVC\n",
        "from sklearn.neural_network import MLPClassifier\n",
        "import tensorflow as tf\n",
        "from tensorflow.keras.models import Sequential\n",
        "from tensorflow.keras.layers import Embedding, Conv1D, GlobalMaxPooling1D, Dense, Flatten\n",
        "from tensorflow.keras.preprocessing.sequence import pad_sequences\n",
        "import matplotlib.pyplot as plt\n",
        "import seaborn as sns"
      ]
    },
    {
      "cell_type": "code",
      "source": [
        "# grab the data from google drive\n",
        "from google.colab import drive\n",
        "drive.mount('/content/drive')\n",
        "\n",
        "# Specify a path variable (project path)\n",
        "proj_path = 'drive/MyDrive/stress/'\n",
        "\n",
        "# Load the data into a DataFrame\n",
        "df = pd.read_csv(proj_path + 'Stress.csv')\n",
        "df.head()"
      ],
      "metadata": {
        "colab": {
          "base_uri": "https://localhost:8080/",
          "height": 625
        },
        "id": "ep3KHiRrgNuf",
        "outputId": "6ae2539f-e3bb-4f0f-ef10-18e319a5242e"
      },
      "execution_count": 39,
      "outputs": [
        {
          "output_type": "stream",
          "name": "stdout",
          "text": [
            "Drive already mounted at /content/drive; to attempt to forcibly remount, call drive.mount(\"/content/drive\", force_remount=True).\n"
          ]
        },
        {
          "output_type": "execute_result",
          "data": {
            "text/plain": [
              "          subreddit post_id sentence_range  \\\n",
              "0              ptsd  8601tu       (15, 20)   \n",
              "1        assistance  8lbrx9         (0, 5)   \n",
              "2              ptsd  9ch1zh       (15, 20)   \n",
              "3     relationships  7rorpp        [5, 10]   \n",
              "4  survivorsofabuse  9p2gbc         [0, 5]   \n",
              "\n",
              "                                                text  label  confidence  \\\n",
              "0  He said he had not felt that way before, sugge...      1         0.8   \n",
              "1  Hey there r/assistance, Not sure if this is th...      0         1.0   \n",
              "2  My mom then hit me with the newspaper and it s...      1         0.8   \n",
              "3  until i met my new boyfriend, he is amazing, h...      1         0.6   \n",
              "4  October is Domestic Violence Awareness Month a...      1         0.8   \n",
              "\n",
              "   social_timestamp  \n",
              "0        1521614353  \n",
              "1        1527009817  \n",
              "2        1535935605  \n",
              "3        1516429555  \n",
              "4        1539809005  "
            ],
            "text/html": [
              "\n",
              "  <div id=\"df-0689caae-5d98-4f37-9b00-b641fbcef32c\">\n",
              "    <div class=\"colab-df-container\">\n",
              "      <div>\n",
              "<style scoped>\n",
              "    .dataframe tbody tr th:only-of-type {\n",
              "        vertical-align: middle;\n",
              "    }\n",
              "\n",
              "    .dataframe tbody tr th {\n",
              "        vertical-align: top;\n",
              "    }\n",
              "\n",
              "    .dataframe thead th {\n",
              "        text-align: right;\n",
              "    }\n",
              "</style>\n",
              "<table border=\"1\" class=\"dataframe\">\n",
              "  <thead>\n",
              "    <tr style=\"text-align: right;\">\n",
              "      <th></th>\n",
              "      <th>subreddit</th>\n",
              "      <th>post_id</th>\n",
              "      <th>sentence_range</th>\n",
              "      <th>text</th>\n",
              "      <th>label</th>\n",
              "      <th>confidence</th>\n",
              "      <th>social_timestamp</th>\n",
              "    </tr>\n",
              "  </thead>\n",
              "  <tbody>\n",
              "    <tr>\n",
              "      <th>0</th>\n",
              "      <td>ptsd</td>\n",
              "      <td>8601tu</td>\n",
              "      <td>(15, 20)</td>\n",
              "      <td>He said he had not felt that way before, sugge...</td>\n",
              "      <td>1</td>\n",
              "      <td>0.8</td>\n",
              "      <td>1521614353</td>\n",
              "    </tr>\n",
              "    <tr>\n",
              "      <th>1</th>\n",
              "      <td>assistance</td>\n",
              "      <td>8lbrx9</td>\n",
              "      <td>(0, 5)</td>\n",
              "      <td>Hey there r/assistance, Not sure if this is th...</td>\n",
              "      <td>0</td>\n",
              "      <td>1.0</td>\n",
              "      <td>1527009817</td>\n",
              "    </tr>\n",
              "    <tr>\n",
              "      <th>2</th>\n",
              "      <td>ptsd</td>\n",
              "      <td>9ch1zh</td>\n",
              "      <td>(15, 20)</td>\n",
              "      <td>My mom then hit me with the newspaper and it s...</td>\n",
              "      <td>1</td>\n",
              "      <td>0.8</td>\n",
              "      <td>1535935605</td>\n",
              "    </tr>\n",
              "    <tr>\n",
              "      <th>3</th>\n",
              "      <td>relationships</td>\n",
              "      <td>7rorpp</td>\n",
              "      <td>[5, 10]</td>\n",
              "      <td>until i met my new boyfriend, he is amazing, h...</td>\n",
              "      <td>1</td>\n",
              "      <td>0.6</td>\n",
              "      <td>1516429555</td>\n",
              "    </tr>\n",
              "    <tr>\n",
              "      <th>4</th>\n",
              "      <td>survivorsofabuse</td>\n",
              "      <td>9p2gbc</td>\n",
              "      <td>[0, 5]</td>\n",
              "      <td>October is Domestic Violence Awareness Month a...</td>\n",
              "      <td>1</td>\n",
              "      <td>0.8</td>\n",
              "      <td>1539809005</td>\n",
              "    </tr>\n",
              "  </tbody>\n",
              "</table>\n",
              "</div>\n",
              "      <button class=\"colab-df-convert\" onclick=\"convertToInteractive('df-0689caae-5d98-4f37-9b00-b641fbcef32c')\"\n",
              "              title=\"Convert this dataframe to an interactive table.\"\n",
              "              style=\"display:none;\">\n",
              "        \n",
              "  <svg xmlns=\"http://www.w3.org/2000/svg\" height=\"24px\"viewBox=\"0 0 24 24\"\n",
              "       width=\"24px\">\n",
              "    <path d=\"M0 0h24v24H0V0z\" fill=\"none\"/>\n",
              "    <path d=\"M18.56 5.44l.94 2.06.94-2.06 2.06-.94-2.06-.94-.94-2.06-.94 2.06-2.06.94zm-11 1L8.5 8.5l.94-2.06 2.06-.94-2.06-.94L8.5 2.5l-.94 2.06-2.06.94zm10 10l.94 2.06.94-2.06 2.06-.94-2.06-.94-.94-2.06-.94 2.06-2.06.94z\"/><path d=\"M17.41 7.96l-1.37-1.37c-.4-.4-.92-.59-1.43-.59-.52 0-1.04.2-1.43.59L10.3 9.45l-7.72 7.72c-.78.78-.78 2.05 0 2.83L4 21.41c.39.39.9.59 1.41.59.51 0 1.02-.2 1.41-.59l7.78-7.78 2.81-2.81c.8-.78.8-2.07 0-2.86zM5.41 20L4 18.59l7.72-7.72 1.47 1.35L5.41 20z\"/>\n",
              "  </svg>\n",
              "      </button>\n",
              "      \n",
              "  <style>\n",
              "    .colab-df-container {\n",
              "      display:flex;\n",
              "      flex-wrap:wrap;\n",
              "      gap: 12px;\n",
              "    }\n",
              "\n",
              "    .colab-df-convert {\n",
              "      background-color: #E8F0FE;\n",
              "      border: none;\n",
              "      border-radius: 50%;\n",
              "      cursor: pointer;\n",
              "      display: none;\n",
              "      fill: #1967D2;\n",
              "      height: 32px;\n",
              "      padding: 0 0 0 0;\n",
              "      width: 32px;\n",
              "    }\n",
              "\n",
              "    .colab-df-convert:hover {\n",
              "      background-color: #E2EBFA;\n",
              "      box-shadow: 0px 1px 2px rgba(60, 64, 67, 0.3), 0px 1px 3px 1px rgba(60, 64, 67, 0.15);\n",
              "      fill: #174EA6;\n",
              "    }\n",
              "\n",
              "    [theme=dark] .colab-df-convert {\n",
              "      background-color: #3B4455;\n",
              "      fill: #D2E3FC;\n",
              "    }\n",
              "\n",
              "    [theme=dark] .colab-df-convert:hover {\n",
              "      background-color: #434B5C;\n",
              "      box-shadow: 0px 1px 3px 1px rgba(0, 0, 0, 0.15);\n",
              "      filter: drop-shadow(0px 1px 2px rgba(0, 0, 0, 0.3));\n",
              "      fill: #FFFFFF;\n",
              "    }\n",
              "  </style>\n",
              "\n",
              "      <script>\n",
              "        const buttonEl =\n",
              "          document.querySelector('#df-0689caae-5d98-4f37-9b00-b641fbcef32c button.colab-df-convert');\n",
              "        buttonEl.style.display =\n",
              "          google.colab.kernel.accessAllowed ? 'block' : 'none';\n",
              "\n",
              "        async function convertToInteractive(key) {\n",
              "          const element = document.querySelector('#df-0689caae-5d98-4f37-9b00-b641fbcef32c');\n",
              "          const dataTable =\n",
              "            await google.colab.kernel.invokeFunction('convertToInteractive',\n",
              "                                                     [key], {});\n",
              "          if (!dataTable) return;\n",
              "\n",
              "          const docLinkHtml = 'Like what you see? Visit the ' +\n",
              "            '<a target=\"_blank\" href=https://colab.research.google.com/notebooks/data_table.ipynb>data table notebook</a>'\n",
              "            + ' to learn more about interactive tables.';\n",
              "          element.innerHTML = '';\n",
              "          dataTable['output_type'] = 'display_data';\n",
              "          await google.colab.output.renderOutput(dataTable, element);\n",
              "          const docLink = document.createElement('div');\n",
              "          docLink.innerHTML = docLinkHtml;\n",
              "          element.appendChild(docLink);\n",
              "        }\n",
              "      </script>\n",
              "    </div>\n",
              "  </div>\n",
              "  "
            ]
          },
          "metadata": {},
          "execution_count": 39
        }
      ]
    },
    {
      "cell_type": "code",
      "source": [
        "ax = df.label.value_counts().plot(kind='bar')\n",
        "ax.set_xticks(ticks=[1,0],labels=['Stressed','Not Stressed'],rotation=0)\n",
        "plt.ylabel('Count of instances')\n",
        "plt.xlabel('Stess Condition')\n",
        "plt.title('Distribution of Labels')"
      ],
      "metadata": {
        "colab": {
          "base_uri": "https://localhost:8080/",
          "height": 502
        },
        "id": "QOoS-BAiXSBc",
        "outputId": "1d8423e5-6944-435e-9431-b405790ef31a"
      },
      "execution_count": 40,
      "outputs": [
        {
          "output_type": "execute_result",
          "data": {
            "text/plain": [
              "Text(0.5, 1.0, 'Distribution of Labels')"
            ]
          },
          "metadata": {},
          "execution_count": 40
        },
        {
          "output_type": "display_data",
          "data": {
            "text/plain": [
              "<Figure size 640x480 with 1 Axes>"
            ],
            "image/png": "[encoded data removed]"
          },
          "metadata": {}
        }
      ]
    },
    {
      "cell_type": "code",
      "source": [
        "plt.figure(figsize = (12,8))\n",
        "sns.set(style = \"whitegrid\",font_scale = 1.2)\n",
        "chart = sns.countplot(x = \"label\", hue = \"subreddit\" , data = df)\n",
        "#chart.set_xticklabels(chart.get_xticklabels(),rotation=0)\n",
        "chart.set_xticklabels(labels=['Not Stressed','Stressed'],rotation=0)"
      ],
      "metadata": {
        "colab": {
          "base_uri": "https://localhost:8080/",
          "height": 474
        },
        "id": "Uf8k4zPkZ4Jx",
        "outputId": "a67efac5-491c-4e71-d4a5-8fe2fe8b43a0"
      },
      "execution_count": 41,
      "outputs": [
        {
          "output_type": "execute_result",
          "data": {
            "text/plain": [
              "[Text(0, 0, 'Not Stressed'), Text(1, 0, 'Stressed')]"
            ]
          },
          "metadata": {},
          "execution_count": 41
        },
        {
          "output_type": "display_data",
          "data": {
            "text/plain": [
              "<Figure size 1200x800 with 1 Axes>"
            ],
            "image/png": "[encoded data removed]"
          },
          "metadata": {}
        }
      ]
    },
    {
      "cell_type": "code",
      "source": [
        "not_used_cols = ['subreddit','post_id','sentence_range','confidence','social_timestamp']\n",
        "df1 = df.drop(not_used_cols,axis=1)\n",
        "df1.sample(3)"
      ],
      "metadata": {
        "colab": {
          "base_uri": "https://localhost:8080/",
          "height": 142
        },
        "id": "61MoumvcjGI0",
        "outputId": "acf041b5-7e8a-4c10-8c80-363d6989adc9"
      },
      "execution_count": 42,
      "outputs": [
        {
          "output_type": "execute_result",
          "data": {
            "text/plain": [
              "                                                   text  label\n",
              "1260  The problem is is that the kinds of mistakes I...      1\n",
              "2048  I’ve been in an abusive relationship for 3 yea...      1\n",
              "2307  I'm going to try not to sound too sad or victi...      0"
            ],
            "text/html": [
              "\n",
              "  <div id=\"df-9d785f7f-f595-45ca-b38e-5649ffc833d6\">\n",
              "    <div class=\"colab-df-container\">\n",
              "      <div>\n",
              "<style scoped>\n",
              "    .dataframe tbody tr th:only-of-type {\n",
              "        vertical-align: middle;\n",
              "    }\n",
              "\n",
              "    .dataframe tbody tr th {\n",
              "        vertical-align: top;\n",
              "    }\n",
              "\n",
              "    .dataframe thead th {\n",
              "        text-align: right;\n",
              "    }\n",
              "</style>\n",
              "<table border=\"1\" class=\"dataframe\">\n",
              "  <thead>\n",
              "    <tr style=\"text-align: right;\">\n",
              "      <th></th>\n",
              "      <th>text</th>\n",
              "      <th>label</th>\n",
              "    </tr>\n",
              "  </thead>\n",
              "  <tbody>\n",
              "    <tr>\n",
              "      <th>1260</th>\n",
              "      <td>The problem is is that the kinds of mistakes I...</td>\n",
              "      <td>1</td>\n",
              "    </tr>\n",
              "    <tr>\n",
              "      <th>2048</th>\n",
              "      <td>I’ve been in an abusive relationship for 3 yea...</td>\n",
              "      <td>1</td>\n",
              "    </tr>\n",
              "    <tr>\n",
              "      <th>2307</th>\n",
              "      <td>I'm going to try not to sound too sad or victi...</td>\n",
              "      <td>0</td>\n",
              "    </tr>\n",
              "  </tbody>\n",
              "</table>\n",
              "</div>\n",
              "      <button class=\"colab-df-convert\" onclick=\"convertToInteractive('df-9d785f7f-f595-45ca-b38e-5649ffc833d6')\"\n",
              "              title=\"Convert this dataframe to an interactive table.\"\n",
              "              style=\"display:none;\">\n",
              "        \n",
              "  <svg xmlns=\"http://www.w3.org/2000/svg\" height=\"24px\"viewBox=\"0 0 24 24\"\n",
              "       width=\"24px\">\n",
              "    <path d=\"M0 0h24v24H0V0z\" fill=\"none\"/>\n",
              "    <path d=\"M18.56 5.44l.94 2.06.94-2.06 2.06-.94-2.06-.94-.94-2.06-.94 2.06-2.06.94zm-11 1L8.5 8.5l.94-2.06 2.06-.94-2.06-.94L8.5 2.5l-.94 2.06-2.06.94zm10 10l.94 2.06.94-2.06 2.06-.94-2.06-.94-.94-2.06-.94 2.06-2.06.94z\"/><path d=\"M17.41 7.96l-1.37-1.37c-.4-.4-.92-.59-1.43-.59-.52 0-1.04.2-1.43.59L10.3 9.45l-7.72 7.72c-.78.78-.78 2.05 0 2.83L4 21.41c.39.39.9.59 1.41.59.51 0 1.02-.2 1.41-.59l7.78-7.78 2.81-2.81c.8-.78.8-2.07 0-2.86zM5.41 20L4 18.59l7.72-7.72 1.47 1.35L5.41 20z\"/>\n",
              "  </svg>\n",
              "      </button>\n",
              "      \n",
              "  <style>\n",
              "    .colab-df-container {\n",
              "      display:flex;\n",
              "      flex-wrap:wrap;\n",
              "      gap: 12px;\n",
              "    }\n",
              "\n",
              "    .colab-df-convert {\n",
              "      background-color: #E8F0FE;\n",
              "      border: none;\n",
              "      border-radius: 50%;\n",
              "      cursor: pointer;\n",
              "      display: none;\n",
              "      fill: #1967D2;\n",
              "      height: 32px;\n",
              "      padding: 0 0 0 0;\n",
              "      width: 32px;\n",
              "    }\n",
              "\n",
              "    .colab-df-convert:hover {\n",
              "      background-color: #E2EBFA;\n",
              "      box-shadow: 0px 1px 2px rgba(60, 64, 67, 0.3), 0px 1px 3px 1px rgba(60, 64, 67, 0.15);\n",
              "      fill: #174EA6;\n",
              "    }\n",
              "\n",
              "    [theme=dark] .colab-df-convert {\n",
              "      background-color: #3B4455;\n",
              "      fill: #D2E3FC;\n",
              "    }\n",
              "\n",
              "    [theme=dark] .colab-df-convert:hover {\n",
              "      background-color: #434B5C;\n",
              "      box-shadow: 0px 1px 3px 1px rgba(0, 0, 0, 0.15);\n",
              "      filter: drop-shadow(0px 1px 2px rgba(0, 0, 0, 0.3));\n",
              "      fill: #FFFFFF;\n",
              "    }\n",
              "  </style>\n",
              "\n",
              "      <script>\n",
              "        const buttonEl =\n",
              "          document.querySelector('#df-9d785f7f-f595-45ca-b38e-5649ffc833d6 button.colab-df-convert');\n",
              "        buttonEl.style.display =\n",
              "          google.colab.kernel.accessAllowed ? 'block' : 'none';\n",
              "\n",
              "        async function convertToInteractive(key) {\n",
              "          const element = document.querySelector('#df-9d785f7f-f595-45ca-b38e-5649ffc833d6');\n",
              "          const dataTable =\n",
              "            await google.colab.kernel.invokeFunction('convertToInteractive',\n",
              "                                                     [key], {});\n",
              "          if (!dataTable) return;\n",
              "\n",
              "          const docLinkHtml = 'Like what you see? Visit the ' +\n",
              "            '<a target=\"_blank\" href=https://colab.research.google.com/notebooks/data_table.ipynb>data table notebook</a>'\n",
              "            + ' to learn more about interactive tables.';\n",
              "          element.innerHTML = '';\n",
              "          dataTable['output_type'] = 'display_data';\n",
              "          await google.colab.output.renderOutput(dataTable, element);\n",
              "          const docLink = document.createElement('div');\n",
              "          docLink.innerHTML = docLinkHtml;\n",
              "          element.appendChild(docLink);\n",
              "        }\n",
              "      </script>\n",
              "    </div>\n",
              "  </div>\n",
              "  "
            ]
          },
          "metadata": {},
          "execution_count": 42
        }
      ]
    },
    {
      "cell_type": "code",
      "source": [
        "# Bag Of Words\n",
        "# Step 1: Preprocess the text data\n",
        "nltk.download('punkt')\n",
        "nltk.download('stopwords')\n",
        "\n",
        "def preprocess_text(texts):\n",
        "    new_texts = []\n",
        "    for text in texts:\n",
        "        # Remove punctuation and special symbols\n",
        "        text = text.translate(str.maketrans('', '', string.punctuation))\n",
        "\n",
        "       # Convert text to lowercase\n",
        "        text = text.lower()\n",
        "\n",
        "       # Tokenize the text into words\n",
        "        tokens = word_tokenize(text)\n",
        "\n",
        "       # Remove stopwords\n",
        "        stop_words = set(stopwords.words('english'))\n",
        "        tokens = [word for word in tokens if word not in stop_words]\n",
        "\n",
        "       # Join the tokens back into a single string\n",
        "        preprocessed_text = ' '.join(tokens)\n",
        "        new_texts.append(preprocessed_text)\n",
        "    return new_texts\n",
        "\n",
        "\n",
        "texts = df1['text']\n",
        "preprocessed_texts = preprocess_text(texts)\n",
        "\n",
        "# Step 2: Tokenization and Create Vocabulary\n",
        "tokenized_documents = []\n",
        "vocabulary = set()\n",
        "\n",
        "for text in preprocessed_texts:\n",
        "    # Tokenize the text into words\n",
        "    tokens = text.split()\n",
        "    tokenized_documents.append(tokens)\n",
        "\n",
        "    # Update the vocabulary\n",
        "    vocabulary.update(tokens)\n",
        "\n",
        "vocabulary = list(vocabulary)\n",
        "\n",
        "\n",
        "# Step 3: Vectorization\n",
        "vectorizer = CountVectorizer(vocabulary=vocabulary, binary=True, lowercase=False)\n",
        "bow_matrix = vectorizer.fit_transform([' '.join(text) for text in tokenized_documents])\n",
        "\n",
        "# Step 4: Representation\n",
        "bow_representation = bow_matrix.toarray()\n",
        "print(bow_representation)\n",
        "\n",
        "\n",
        "\n",
        "\n",
        "\n",
        "\n"
      ],
      "metadata": {
        "colab": {
          "base_uri": "https://localhost:8080/"
        },
        "id": "VTywobbovqqq",
        "outputId": "522aca67-de63-48d1-81cd-0a6d2864f980"
      },
      "execution_count": 43,
      "outputs": [
        {
          "output_type": "stream",
          "name": "stderr",
          "text": [
            "[nltk_data] Downloading package punkt to /root/nltk_data...\n",
            "[nltk_data]   Package punkt is already up-to-date!\n",
            "[nltk_data] Downloading package stopwords to /root/nltk_data...\n",
            "[nltk_data]   Package stopwords is already up-to-date!\n"
          ]
        },
        {
          "output_type": "stream",
          "name": "stdout",
          "text": [
            "[[0 0 0 ... 0 0 0]\n",
            " [0 0 0 ... 0 0 0]\n",
            " [0 0 0 ... 0 0 0]\n",
            " ...\n",
            " [0 0 0 ... 0 0 0]\n",
            " [0 0 0 ... 0 0 0]\n",
            " [0 0 0 ... 0 0 0]]\n"
          ]
        }
      ]
    },
    {
      "cell_type": "code",
      "source": [
        "# Define the target variable\n",
        "target = df1['label']\n",
        "\n",
        "# Split the data into training and testing sets\n",
        "X_train, X_test, y_train, y_test = train_test_split(bow_representation, target, test_size=0.2, random_state=42)"
      ],
      "metadata": {
        "id": "QdOF0VIYB1rm"
      },
      "execution_count": 44,
      "outputs": []
    },
    {
      "cell_type": "code",
      "source": [
        "# ML method 1: Logistic Regression based on bag of words\n",
        "\n",
        "# Initialize and train a Logistic Regression model\n",
        "logistic_regression_model = LogisticRegression()\n",
        "logistic_regression_model.fit(X_train, y_train)\n",
        "\n",
        "# Make predictions on the test set\n",
        "predictions = logistic_regression_model.predict(X_test)\n",
        "\n",
        "# Evaluate the model using accuracy\n",
        "accuracy = accuracy_score(y_test, predictions)\n",
        "print(\"\\nAccuracy:\", accuracy)"
      ],
      "metadata": {
        "colab": {
          "base_uri": "https://localhost:8080/"
        },
        "id": "RDpndu0s9e9k",
        "outputId": "60340412-1e9e-4e5f-a4d0-db15b876b71d"
      },
      "execution_count": 45,
      "outputs": [
        {
          "output_type": "stream",
          "name": "stdout",
          "text": [
            "\n",
            "Accuracy: 0.721830985915493\n"
          ]
        }
      ]
    },
    {
      "cell_type": "code",
      "source": [
        "# ML method 2: SVM based on bag of words\n",
        "svm_model = SVC()\n",
        "svm_model.fit(X_train, y_train)\n",
        "\n",
        "# Make predictions on the test set\n",
        "predictions = svm_model.predict(X_test)\n",
        "\n",
        "# Evaluate the model using accuracy\n",
        "accuracy = accuracy_score(y_test, predictions)\n",
        "print(\"\\nAccuracy:\", accuracy)"
      ],
      "metadata": {
        "colab": {
          "base_uri": "https://localhost:8080/"
        },
        "id": "g7NRP3JFA0d3",
        "outputId": "0a3fd832-90ad-4ab2-fefb-f72cc88a43de"
      },
      "execution_count": 46,
      "outputs": [
        {
          "output_type": "stream",
          "name": "stdout",
          "text": [
            "\n",
            "Accuracy: 0.727112676056338\n"
          ]
        }
      ]
    },
    {
      "cell_type": "code",
      "source": [
        "# Word2Vec\n",
        "\n",
        "corpus = df1['text']\n",
        "#Step1: Preprocessing and tokenization\n",
        "def preprocess_text(text):\n",
        "    # Remove punctuation\n",
        "    text = text.translate(str.maketrans(\"\", \"\", string.punctuation))\n",
        "\n",
        "    # Convert to lowercase\n",
        "    text = text.lower()\n",
        "\n",
        "    # Tokenize the text\n",
        "    tokens = word_tokenize(text)\n",
        "\n",
        "    # Remove stop words\n",
        "    stop_words = set(stopwords.words(\"english\"))\n",
        "    filtered_tokens = [word for word in tokens if word not in stop_words]\n",
        "\n",
        "    return filtered_tokens\n",
        "\n",
        "#Step2: Prepare sentences\n",
        "sentences = [preprocess_text(text) for text in corpus]\n",
        "\n",
        "#Step 3: Train Word2Vec model\n",
        "model = Word2Vec(sentences, vector_size=100, window=5, min_count=1, workers=4)\n",
        "\n",
        "#Step 4: Test the trained model by a simple word\n",
        "word_vector = model.wv[\"books\"]\n",
        "similar_words = model.wv.most_similar(\"reading\")\n",
        "\n",
        "print(\"Vector representation of 'books':\", word_vector)\n",
        "print(\"Similar words to 'reading':\", similar_words)\n"
      ],
      "metadata": {
        "colab": {
          "base_uri": "https://localhost:8080/"
        },
        "id": "11-_7CmFDZCF",
        "outputId": "edf11b0e-2ce0-46d7-dc5c-fa79b6cc0cb5"
      },
      "execution_count": 47,
      "outputs": [
        {
          "output_type": "stream",
          "name": "stdout",
          "text": [
            "Vector representation of 'books': [-8.14116225e-02  1.67699590e-01  5.63948154e-02  3.14088102e-04\n",
            "  2.61392444e-03 -3.34579736e-01  7.90906847e-02  4.08348441e-01\n",
            " -1.48124173e-01 -1.21753573e-01 -9.84604210e-02 -2.50329077e-01\n",
            "  3.20965089e-02  5.62801808e-02  5.78791499e-02 -1.58261925e-01\n",
            "  3.05457376e-02 -1.73569888e-01  4.99257557e-02 -4.39994395e-01\n",
            "  6.14838786e-02  1.21436551e-01  1.09881110e-01 -6.67851120e-02\n",
            " -8.22734162e-02 -1.65079609e-02 -1.77535608e-01 -1.75852254e-01\n",
            " -2.06976801e-01 -1.80379841e-02  2.09441870e-01  5.47802746e-02\n",
            "  5.69704697e-02 -1.40492812e-01 -1.06019907e-01  2.14796245e-01\n",
            " -9.13903210e-03 -1.54065654e-01 -1.29676342e-01 -3.35973263e-01\n",
            " -8.10544845e-03 -1.91888884e-01 -4.39060591e-02 -2.45084078e-03\n",
            "  1.69313058e-01 -9.52533558e-02 -1.77481994e-01 -5.67958392e-02\n",
            "  6.51775226e-02  1.76063746e-01  6.30168244e-02 -1.77334681e-01\n",
            " -3.90989855e-02 -2.79861670e-02 -8.90746564e-02  1.18371204e-01\n",
            "  7.79336244e-02 -4.90362905e-02 -2.24047393e-01  6.83676526e-02\n",
            "  5.72136603e-02  1.16560519e-01 -1.70013476e-02  1.52878172e-03\n",
            " -2.52221048e-01  1.50776267e-01  7.92037696e-02  1.16286643e-01\n",
            " -2.46003851e-01  2.01176092e-01 -1.35889545e-01  1.29165009e-01\n",
            "  2.06842870e-01 -2.38498673e-02  1.92989811e-01  8.81099850e-02\n",
            " -2.17464063e-02 -2.75209118e-02 -1.68598637e-01  1.05419755e-01\n",
            " -1.40200611e-02 -3.92364077e-02 -2.39065096e-01  2.77381212e-01\n",
            " -5.54844663e-02 -3.40349488e-02 -7.38112070e-03  1.89063504e-01\n",
            "  2.13679582e-01  8.96986201e-02  1.53352022e-01  4.12883162e-02\n",
            " -5.04143573e-02  1.25243887e-02  3.64596277e-01  1.93769634e-01\n",
            "  1.06678411e-01 -1.51850268e-01  1.97017062e-02  1.66643765e-02]\n",
            "Similar words to 'reading': [('use', 0.9996982216835022), ('head', 0.9996904730796814), ('id', 0.9996882081031799), ('made', 0.9996873140335083), ('room', 0.9996848702430725), ('thought', 0.9996775984764099), ('give', 0.9996722340583801), ('read', 0.999670147895813), ('url', 0.999670147895813), ('looking', 0.9996691942214966)]\n"
          ]
        }
      ]
    },
    {
      "cell_type": "code",
      "source": [
        "# Prepare training data\n",
        "X = np.array([np.mean([model.wv[word] for word in sentence], axis=0) for sentence in sentences])\n",
        "y = np.array([label for label in df1['label']])\n",
        "\n",
        "# Split the data into training and testing sets\n",
        "X_train, X_test, y_train, y_test = train_test_split(X, y, test_size=0.2, random_state=42)"
      ],
      "metadata": {
        "id": "6nnaHbnqWpET"
      },
      "execution_count": 48,
      "outputs": []
    },
    {
      "cell_type": "code",
      "source": [
        "# ML method 1: Logistic Regression based on Word2Vec\n",
        "\n",
        "# Initialize and train logistic regression model\n",
        "logreg = LogisticRegression()\n",
        "logreg.fit(X_train, y_train)\n",
        "\n",
        "# Predict labels for test data\n",
        "y_pred = logreg.predict(X_test)\n",
        "\n",
        "# Evaluate the model\n",
        "accuracy = accuracy_score(y_test, y_pred)\n",
        "print(\"Accuracy:\", accuracy)\n"
      ],
      "metadata": {
        "colab": {
          "base_uri": "https://localhost:8080/"
        },
        "id": "75kdoIjtVfG-",
        "outputId": "6455f45f-f6eb-4d2d-e25b-d2c56d690f86"
      },
      "execution_count": 49,
      "outputs": [
        {
          "output_type": "stream",
          "name": "stdout",
          "text": [
            "Accuracy: 0.6038732394366197\n"
          ]
        }
      ]
    },
    {
      "cell_type": "code",
      "source": [
        "# ML method 2: SVM based on Word2Vec\n",
        "svm = SVC()\n",
        "svm.fit(X_train, y_train)\n",
        "\n",
        "# Evaluate the model\n",
        "y_pred = svm.predict(X_test)\n",
        "accuracy = accuracy_score(y_test, y_pred)\n",
        "\n",
        "print(\"Accuracy:\", accuracy)"
      ],
      "metadata": {
        "colab": {
          "base_uri": "https://localhost:8080/"
        },
        "id": "79XZPZluWkRG",
        "outputId": "b84983af-ac0b-43eb-cd0c-8be4b36bc52d"
      },
      "execution_count": 50,
      "outputs": [
        {
          "output_type": "stream",
          "name": "stdout",
          "text": [
            "Accuracy: 0.6003521126760564\n"
          ]
        }
      ]
    },
    {
      "cell_type": "code",
      "source": [
        "# ML method 3: CNN based on Word2Vec\n",
        "\n",
        "# Prepare training data\n",
        "sentences = [preprocess_text(text) for text in corpus]\n",
        "\n",
        "# Determine the maximum sequence length\n",
        "max_length = max(len(sent) for sent in sentences)\n",
        "\n",
        "# Define the number of classes\n",
        "num_classes = 2\n",
        "\n",
        "# Convert sentences to sequences of word indices\n",
        "sequences = [[model.wv.key_to_index[word] for word in sent if word in model.wv.key_to_index] for sent in sentences]\n",
        "\n",
        "# Pad sequences to a fixed length\n",
        "sequences_padded = pad_sequences(sequences, maxlen=max_length, padding='post', truncating='post')\n",
        "\n",
        "# Prepare training data\n",
        "X = sequences_padded\n",
        "y = np.array([label for label in df1['label']])  # Assuming you have corresponding labels for each sentence\n",
        "\n",
        "# Split the data into training and testing sets\n",
        "X_train, X_test, y_train, y_test = train_test_split(X, y, test_size=0.2, random_state=42)\n",
        "\n",
        "print(\"X_train shape:\", X_train.shape)  # Check the shape of X_train\n",
        "\n",
        "# Reshape the data\n",
        "input_shape = (X_train.shape[1],)  # Shape of Word2Vec embeddings\n",
        "\n",
        "# Define the CNN Architecture\n",
        "model = tf.keras.Sequential([\n",
        "    tf.keras.layers.Embedding(input_dim=model.wv.vectors.shape[0], output_dim=model.wv.vectors.shape[1],\n",
        "                              weights=[model.wv.vectors], input_length=max_length, trainable=False),\n",
        "    tf.keras.layers.Conv1D(64, 3, activation='relu'),\n",
        "    tf.keras.layers.MaxPooling1D(2),\n",
        "    tf.keras.layers.Conv1D(128, 3, activation='relu'),\n",
        "    tf.keras.layers.GlobalMaxPooling1D(),\n",
        "    tf.keras.layers.Dense(64, activation='relu'),\n",
        "    tf.keras.layers.Dense(num_classes, activation='softmax')\n",
        "])\n",
        "\n",
        "# Compile the model\n",
        "model.compile(loss='sparse_categorical_crossentropy', optimizer='adam', metrics=['accuracy'])\n",
        "\n",
        "# Train the model\n",
        "model.fit(X_train, y_train, epochs=20, batch_size=64, validation_split=0.1)\n",
        "\n",
        "# Predict labels for test data\n",
        "y_pred_prob = model.predict(X_test)\n",
        "y_pred = np.argmax(y_pred_prob, axis=1)\n",
        "accuracy = accuracy_score(y_test, y_pred)\n",
        "print(\"Accuracy:\", accuracy)\n"
      ],
      "metadata": {
        "id": "MFHRhHBEXpEN",
        "colab": {
          "base_uri": "https://localhost:8080/"
        },
        "outputId": "dc2735be-733a-4841-85df-ada080052889"
      },
      "execution_count": 51,
      "outputs": [
        {
          "output_type": "stream",
          "name": "stdout",
          "text": [
            "X_train shape: (2270, 148)\n",
            "Epoch 1/20\n",
            "32/32 [==============================] - 2s 11ms/step - loss: 0.6944 - accuracy: 0.5296 - val_loss: 0.6860 - val_accuracy: 0.5242\n",
            "Epoch 2/20\n",
            "32/32 [==============================] - 0s 5ms/step - loss: 0.6897 - accuracy: 0.5546 - val_loss: 0.6767 - val_accuracy: 0.6300\n",
            "Epoch 3/20\n",
            "32/32 [==============================] - 0s 6ms/step - loss: 0.6738 - accuracy: 0.5879 - val_loss: 0.6713 - val_accuracy: 0.5815\n",
            "Epoch 4/20\n",
            "32/32 [==============================] - 0s 5ms/step - loss: 0.6734 - accuracy: 0.5869 - val_loss: 0.6687 - val_accuracy: 0.5859\n",
            "Epoch 5/20\n",
            "32/32 [==============================] - 0s 5ms/step - loss: 0.6766 - accuracy: 0.5742 - val_loss: 0.6630 - val_accuracy: 0.6564\n",
            "Epoch 6/20\n",
            "32/32 [==============================] - 0s 6ms/step - loss: 0.6618 - accuracy: 0.6025 - val_loss: 0.6457 - val_accuracy: 0.6520\n",
            "Epoch 7/20\n",
            "32/32 [==============================] - 0s 6ms/step - loss: 0.6595 - accuracy: 0.6001 - val_loss: 0.7013 - val_accuracy: 0.5110\n",
            "Epoch 8/20\n",
            "32/32 [==============================] - 0s 8ms/step - loss: 0.6583 - accuracy: 0.6035 - val_loss: 0.6501 - val_accuracy: 0.6520\n",
            "Epoch 9/20\n",
            "32/32 [==============================] - 0s 6ms/step - loss: 0.6563 - accuracy: 0.6060 - val_loss: 0.6407 - val_accuracy: 0.6344\n",
            "Epoch 10/20\n",
            "32/32 [==============================] - 0s 6ms/step - loss: 0.6396 - accuracy: 0.6309 - val_loss: 0.6355 - val_accuracy: 0.6256\n",
            "Epoch 11/20\n",
            "32/32 [==============================] - 0s 7ms/step - loss: 0.6550 - accuracy: 0.6070 - val_loss: 0.6420 - val_accuracy: 0.6476\n",
            "Epoch 12/20\n",
            "32/32 [==============================] - 0s 6ms/step - loss: 0.6489 - accuracy: 0.6138 - val_loss: 0.6759 - val_accuracy: 0.5683\n",
            "Epoch 13/20\n",
            "32/32 [==============================] - 0s 6ms/step - loss: 0.6285 - accuracy: 0.6510 - val_loss: 0.6364 - val_accuracy: 0.6079\n",
            "Epoch 14/20\n",
            "32/32 [==============================] - 0s 7ms/step - loss: 0.6159 - accuracy: 0.6520 - val_loss: 0.6427 - val_accuracy: 0.5815\n",
            "Epoch 15/20\n",
            "32/32 [==============================] - 0s 9ms/step - loss: 0.6193 - accuracy: 0.6500 - val_loss: 0.6620 - val_accuracy: 0.6079\n",
            "Epoch 16/20\n",
            "32/32 [==============================] - 0s 8ms/step - loss: 0.6039 - accuracy: 0.6721 - val_loss: 0.6364 - val_accuracy: 0.6344\n",
            "Epoch 17/20\n",
            "32/32 [==============================] - 0s 7ms/step - loss: 0.6027 - accuracy: 0.6613 - val_loss: 0.6736 - val_accuracy: 0.6211\n",
            "Epoch 18/20\n",
            "32/32 [==============================] - 0s 6ms/step - loss: 0.5931 - accuracy: 0.6750 - val_loss: 0.6394 - val_accuracy: 0.6035\n",
            "Epoch 19/20\n",
            "32/32 [==============================] - 0s 7ms/step - loss: 0.5771 - accuracy: 0.6838 - val_loss: 0.6393 - val_accuracy: 0.6256\n",
            "Epoch 20/20\n",
            "32/32 [==============================] - 0s 7ms/step - loss: 0.6115 - accuracy: 0.6618 - val_loss: 0.6978 - val_accuracy: 0.6167\n",
            "18/18 [==============================] - 0s 3ms/step\n",
            "Accuracy: 0.5686619718309859\n"
          ]
        }
      ]
    },
    {
      "cell_type": "code",
      "source": [
        "# Data Visualization\n",
        "\n",
        "x=np.arange(3)\n",
        "y1=[0.7218, 0.7271, 0]\n",
        "y2=[0.6038, 0.6003, 0.5686]\n",
        "\n",
        "bar_width=0.3\n",
        "tick_label=['Logistic Regression','SVM','CNN']\n",
        "\n",
        "plt.bar(x,y1,bar_width,color='salmon',label='Bags of Words')\n",
        "plt.bar(x+bar_width,y2,bar_width,color='orchid',label='Word2Vec')\n",
        "\n",
        "plt.legend()\n",
        "plt.xticks(x+bar_width/2,tick_label)\n",
        "plt.show()"
      ],
      "metadata": {
        "id": "gOTIYMIR9LoW",
        "colab": {
          "base_uri": "https://localhost:8080/",
          "height": 437
        },
        "outputId": "a6b414a8-9847-45e6-c889-b4532a5eddb8"
      },
      "execution_count": 53,
      "outputs": [
        {
          "output_type": "display_data",
          "data": {
            "text/plain": [
              "<Figure size 640x480 with 1 Axes>"
            ],
            "image/png": "[encoded data removed]"
          },
          "metadata": {}
        }
      ]
    }
  ]
}